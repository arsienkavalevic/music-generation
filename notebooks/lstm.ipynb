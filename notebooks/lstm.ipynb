{
 "cells": [
  {
   "cell_type": "markdown",
   "id": "1cd584f0-2f32-424e-9339-0f52b29e9cef",
   "metadata": {},
   "source": [
    "# Music Generation using LSTM neural network"
   ]
  },
  {
   "cell_type": "markdown",
   "id": "3f809649-edbb-42b5-83e3-fe7bd1ce54f9",
   "metadata": {},
   "source": [
    "This notebook walk through the process of building Music Generation model based on LSTM using Keras."
   ]
  },
  {
   "cell_type": "markdown",
   "id": "6fb33fdc-8107-4500-ad91-f4b03289fe35",
   "metadata": {},
   "source": [
    "## Imports"
   ]
  },
  {
   "cell_type": "code",
   "execution_count": 32,
   "id": "a3982c34-7555-4da9-8d2e-f34d37027fa1",
   "metadata": {},
   "outputs": [],
   "source": [
    "import tensorflow as tf\n",
    "import music21 as m21\n",
    "import numpy as np\n",
    "import glob"
   ]
  },
  {
   "cell_type": "markdown",
   "id": "c5c1d6ec-08e9-44c6-8114-d9ee7c109dc7",
   "metadata": {},
   "source": [
    "## Preprocessing song dataset"
   ]
  },
  {
   "cell_type": "markdown",
   "id": "e1dee012-37e5-443e-8cab-e822b2feda0b",
   "metadata": {},
   "source": [
    "I'm using different piano melodies in MIDI format mostly from Final Fantasy soundtracks."
   ]
  },
  {
   "cell_type": "markdown",
   "id": "7746311c-d296-4a6d-b183-7b5841b9bbdc",
   "metadata": {},
   "source": [
    "### Loading"
   ]
  },
  {
   "cell_type": "code",
   "execution_count": 33,
   "id": "1fb4b068-5c6f-43fc-a382-eb69353779eb",
   "metadata": {},
   "outputs": [],
   "source": [
    "DATA_PATH = '../data/'"
   ]
  },
  {
   "cell_type": "markdown",
   "id": "86936645-832a-408f-aced-9d2d7d0bdc7e",
   "metadata": {},
   "source": [
    "Here you can see the code that parse all MIDI files and makes array with all the notes and chords from them."
   ]
  },
  {
   "cell_type": "code",
   "execution_count": 34,
   "id": "9fe3454f-3260-4e07-a46e-bbdc7d74e453",
   "metadata": {},
   "outputs": [],
   "source": [
    "notes = []\n",
    "\n",
    "for file in glob.glob(DATA_PATH + '*.mid'):\n",
    "    midi = m21.converter.parse(file)\n",
    "    notes_to_parse = None\n",
    "\n",
    "    parts = m21.instrument.partitionByInstrument(midi)\n",
    "    if parts:\n",
    "        notes_to_parse = parts.parts[0].recurse()\n",
    "    else:\n",
    "        notes_to_parse = midi.flat.notes\n",
    "\n",
    "    for element in notes_to_parse:\n",
    "        if isinstance(element, m21.note.Note):\n",
    "            notes.append(str(element.pitch))\n",
    "        elif isinstance(element, m21.chord.Chord):\n",
    "            notes.append('.'.join(str(n) for n in element.normalOrder))"
   ]
  },
  {
   "cell_type": "markdown",
   "id": "750a5878-4cf5-4437-98a3-40b237cc3dbd",
   "metadata": {},
   "source": [
    "### Shaping data"
   ]
  },
  {
   "cell_type": "code",
   "execution_count": 35,
   "id": "30069892-8c19-4a51-8788-cb2013871958",
   "metadata": {},
   "outputs": [],
   "source": [
    "SEQ_LEN = 100"
   ]
  },
  {
   "cell_type": "markdown",
   "id": "ddf5c290-b535-4907-bffc-992fa80c6d61",
   "metadata": {},
   "source": [
    "Get all unique pitchnames."
   ]
  },
  {
   "cell_type": "code",
   "execution_count": 51,
   "id": "ee765218-1fcc-4790-84bb-25d58ec31c5e",
   "metadata": {},
   "outputs": [
    {
     "data": {
      "text/plain": [
       "326"
      ]
     },
     "execution_count": 51,
     "metadata": {},
     "output_type": "execute_result"
    }
   ],
   "source": [
    "pitchnames = sorted(set(notes))\n",
    "len(pitchnames)"
   ]
  },
  {
   "cell_type": "markdown",
   "id": "368995d8-c491-4890-85ae-4643ad9ed729",
   "metadata": {},
   "source": [
    "Create a note_to_int dictionary to map pitches to integer."
   ]
  },
  {
   "cell_type": "code",
   "execution_count": 52,
   "id": "6f2a9c13-b656-4662-b1b6-4646da9a8084",
   "metadata": {},
   "outputs": [
    {
     "data": {
      "text/plain": [
       "52"
      ]
     },
     "execution_count": 52,
     "metadata": {},
     "output_type": "execute_result"
    }
   ],
   "source": [
    "note_to_int = {note:number for number, note in enumerate(pitchnames)}\n",
    "note_to_int[pitchnames[52]]"
   ]
  },
  {
   "cell_type": "markdown",
   "id": "9ae755e5-0066-45b5-8671-c0e786962e7a",
   "metadata": {},
   "source": [
    "Create input sequences and the corresponding outputs."
   ]
  },
  {
   "cell_type": "code",
   "execution_count": 62,
   "id": "3cbcc10e-9fb0-48ac-93ab-b639d354d807",
   "metadata": {},
   "outputs": [],
   "source": [
    "network_input = []\n",
    "network_output = []\n",
    "\n",
    "for i in range(0, len(notes) - SEQ_LEN):\n",
    "    input_seq = notes[i:i + SEQ_LEN]\n",
    "    output_note = notes[i + SEQ_LEN]\n",
    "    network_input.append([note_to_int[char] for char in input_seq])\n",
    "    network_output.append(note_to_int[output_note])"
   ]
  },
  {
   "cell_type": "markdown",
   "id": "4c96cef5-4cf1-4d13-81ea-68014a26f0ca",
   "metadata": {},
   "source": [
    "Reshape the input into a format compatible with LSTM layers."
   ]
  },
  {
   "cell_type": "code",
   "execution_count": 64,
   "id": "2f5e69e9-a00b-494e-8f03-9066231a5942",
   "metadata": {},
   "outputs": [],
   "source": [
    "network_input = np.reshape(network_input, (len(network_input), SEQ_LEN, 1))"
   ]
  },
  {
   "cell_type": "markdown",
   "id": "b7e05e71-fb78-454c-b845-a842baab5a3d",
   "metadata": {},
   "source": [
    "Normalize input and one-hot encode the output."
   ]
  },
  {
   "cell_type": "code",
   "execution_count": 65,
   "id": "41e0b134-982a-4992-a413-987bb1c58594",
   "metadata": {},
   "outputs": [],
   "source": [
    "network_input = network_input / float(len(pitchnames))\n",
    "network_output = tf.keras.utils.to_categorical(network_output)"
   ]
  },
  {
   "cell_type": "code",
   "execution_count": null,
   "id": "0bb8cf6c-04d8-46a2-8a41-1f695346571a",
   "metadata": {},
   "outputs": [],
   "source": []
  }
 ],
 "metadata": {
  "kernelspec": {
   "display_name": "Main",
   "language": "python",
   "name": "main"
  },
  "language_info": {
   "codemirror_mode": {
    "name": "ipython",
    "version": 3
   },
   "file_extension": ".py",
   "mimetype": "text/x-python",
   "name": "python",
   "nbconvert_exporter": "python",
   "pygments_lexer": "ipython3",
   "version": "3.10.14"
  }
 },
 "nbformat": 4,
 "nbformat_minor": 5
}
