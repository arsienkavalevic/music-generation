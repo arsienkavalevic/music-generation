{
 "cells": [
  {
   "cell_type": "code",
   "execution_count": null,
   "id": "5fbbf1b4-c882-4372-ae5c-69bb7450e794",
   "metadata": {},
   "outputs": [],
   "source": []
  }
 ],
 "metadata": {
  "kernelspec": {
   "display_name": "TF-Python3.10",
   "language": "python",
   "name": "tensorflow-python"
  },
  "language_info": {
   "codemirror_mode": {
    "name": "ipython",
    "version": 3
   },
   "file_extension": ".py",
   "mimetype": "text/x-python",
   "name": "python",
   "nbconvert_exporter": "python",
   "pygments_lexer": "ipython3",
   "version": "3.10.14"
  }
 },
 "nbformat": 4,
 "nbformat_minor": 5
}
